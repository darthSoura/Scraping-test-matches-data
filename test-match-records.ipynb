{
 "cells": [
  {
   "cell_type": "markdown",
   "metadata": {},
   "source": [
    "# Scraping the data of Test matches played in the years 1877 - Jan 2022.\n",
    "Data is scrapped from ESPNCricinfo and stored as CSV files after doing some Data Cleaning and Preparation."
   ]
  },
  {
   "cell_type": "markdown",
   "metadata": {},
   "source": [
    "<img src = \"https://static.independent.co.uk/2021/02/03/17/newFile-1.jpg?width=600\">\n",
    "<center>Team India scripting one of Test cricket's most epic comebacks.</center>"
   ]
  },
  {
   "cell_type": "markdown",
   "metadata": {},
   "source": [
    "First we import and install all the required packages."
   ]
  },
  {
   "cell_type": "code",
   "execution_count": 1,
   "metadata": {},
   "outputs": [],
   "source": [
    "!pip install jovian --upgrade --quiet"
   ]
  },
  {
   "cell_type": "code",
   "execution_count": 2,
   "metadata": {},
   "outputs": [],
   "source": [
    "import jovian\n",
    "import requests\n",
    "from bs4 import BeautifulSoup\n",
    "import pandas as pd\n",
    "import os\n",
    "import re"
   ]
  },
  {
   "cell_type": "code",
   "execution_count": 3,
   "metadata": {},
   "outputs": [
    {
     "data": {
      "application/javascript": [
       "window.require && require([\"base/js/namespace\"],function(Jupyter){Jupyter.notebook.save_checkpoint()})"
      ],
      "text/plain": [
       "<IPython.core.display.Javascript object>"
      ]
     },
     "metadata": {},
     "output_type": "display_data"
    },
    {
     "name": "stdout",
     "output_type": "stream",
     "text": [
      "[jovian] Updating notebook \"ash007online/test-match-records\" on https://jovian.ai\u001b[0m\n",
      "[jovian] Committed successfully! https://jovian.ai/ash007online/test-match-records\u001b[0m\n"
     ]
    },
    {
     "data": {
      "text/plain": [
       "'https://jovian.ai/ash007online/test-match-records'"
      ]
     },
     "execution_count": 3,
     "metadata": {},
     "output_type": "execute_result"
    }
   ],
   "source": [
    "# Execute this to save new versions of the notebook\n",
    "jovian.commit(project=\"test-match-records\")"
   ]
  },
  {
   "cell_type": "markdown",
   "metadata": {
    "heading_collapsed": true
   },
   "source": [
    "## Choosing the URLs"
   ]
  },
  {
   "cell_type": "markdown",
   "metadata": {
    "hidden": true
   },
   "source": [
    "We store the ESPNCricinfo Home Page URL: https://stats.espncricinfo.com in the variable `base_url`.<br>\n",
    "We have the source Webpage: https://stats.espncricinfo.com/ci/content/records/307847.html. <br>\n",
    "Let's define a function `get_all_year_links()` to get the links of each year from this `page_url`.\n",
    "<img src = \"https://i.imgur.com/ZIV8Txc.png\" width = 600>"
   ]
  },
  {
   "cell_type": "code",
   "execution_count": 4,
   "metadata": {
    "code_folding": [
     0
    ],
    "hidden": true
   },
   "outputs": [],
   "source": [
    "def get_all_year_links():\n",
    "    '''\n",
    "    Function to return the list of all year-wise links\n",
    "    '''\n",
    "    \n",
    "    base_url = \"https://stats.espncricinfo.com\"\n",
    "#     base URL\n",
    "    page_url = \"https://stats.espncricinfo.com/ci/content/records/307847.html\"\n",
    "#     first stats page URL\n",
    "\n",
    "    response = requests.get(page_url)    \n",
    "    while response.status_code != 200:\n",
    "        response = requests.get(page_url)\n",
    "#     download the page and parse it using BeautifulSoup\n",
    "    base_doc = BeautifulSoup(response.text, 'html.parser')\n",
    "    \n",
    "    year_tags = base_doc.find_all('a', {'class' : \"QuoteSummary\"})\n",
    "    year_urls = [base_url + year['href'] for year in year_tags]\n",
    "#     get the year 'a' tags and extract the 'href' attribute to get the year links\n",
    "    \n",
    "    return year_urls"
   ]
  },
  {
   "cell_type": "markdown",
   "metadata": {
    "hidden": true
   },
   "source": [
    "Showing how the function works:"
   ]
  },
  {
   "cell_type": "code",
   "execution_count": 5,
   "metadata": {
    "hidden": true
   },
   "outputs": [
    {
     "data": {
      "text/plain": [
       "'https://stats.espncricinfo.com/ci/engine/records/team/match_results.html?class=1;id=2022;type=year'"
      ]
     },
     "execution_count": 5,
     "metadata": {},
     "output_type": "execute_result"
    }
   ],
   "source": [
    "get_all_year_links()[-1]\n",
    "# showing only the last five year links"
   ]
  },
  {
   "cell_type": "markdown",
   "metadata": {
    "hidden": true
   },
   "source": [
    "Now that we have created a function to get all year URLs, we can define a function `get_matches_in_year(year_url)` which takes a `year_url` and returns a Pandas DataFrame with all the matches in that year."
   ]
  },
  {
   "cell_type": "code",
   "execution_count": 6,
   "metadata": {
    "code_folding": [
     0
    ],
    "hidden": true
   },
   "outputs": [],
   "source": [
    "def get_matches_in_year(year_url):\n",
    "    '''\n",
    "    Function to get all the Test matches in a calendar year\n",
    "    \n",
    "    year_url - URL corresponding to the Calendar year\n",
    "    '''\n",
    "#     download the page and parse it\n",
    "    year_page = requests.get(year_url)\n",
    "    while year_page.status_code != 200:\n",
    "        year_page = requests.get(year_url)\n",
    "    \n",
    "    year_doc = BeautifulSoup(year_page.text, 'html.parser')\n",
    "    \n",
    "#     extract the headers and edit them accordingly\n",
    "    header_tags = year_doc.find_all('th')\n",
    "    headers = [header_tags[i].text for i in range(len(header_tags) - 1)]   \n",
    "\n",
    "    headers.remove(\"Team 1\")\n",
    "    headers.remove(\"Team 2\")\n",
    "\n",
    "    headers.insert(0, \"Host Team\")\n",
    "    headers.insert(1, \"Away Team\")\n",
    "    \n",
    "#     extract all the matches\n",
    "    match_tags = year_doc.find_all('tr', {'class': 'data1'})\n",
    "    \n",
    "    matches = []\n",
    "#     to store each match\n",
    "    for i in range(len(match_tags)):\n",
    "        match_details = match_tags[i].find_all('td')\n",
    "        match = [match_details[j].text for j in range(len(match_details) - 1)]\n",
    "        matches.append(match)\n",
    "    \n",
    "#     we don't need the Test Match No., so we skip it (use len() - 1)\n",
    "    \n",
    "#     return a DataFrame with the data and headers\n",
    "    return pd.DataFrame(matches, columns = headers)"
   ]
  },
  {
   "cell_type": "markdown",
   "metadata": {
    "hidden": true
   },
   "source": [
    "The function works as follows:"
   ]
  },
  {
   "cell_type": "code",
   "execution_count": 7,
   "metadata": {
    "hidden": true
   },
   "outputs": [
    {
     "data": {
      "text/html": [
       "<div>\n",
       "<style scoped>\n",
       "    .dataframe tbody tr th:only-of-type {\n",
       "        vertical-align: middle;\n",
       "    }\n",
       "\n",
       "    .dataframe tbody tr th {\n",
       "        vertical-align: top;\n",
       "    }\n",
       "\n",
       "    .dataframe thead th {\n",
       "        text-align: right;\n",
       "    }\n",
       "</style>\n",
       "<table border=\"1\" class=\"dataframe\">\n",
       "  <thead>\n",
       "    <tr style=\"text-align: right;\">\n",
       "      <th></th>\n",
       "      <th>Host Team</th>\n",
       "      <th>Away Team</th>\n",
       "      <th>Winner</th>\n",
       "      <th>Margin</th>\n",
       "      <th>Ground</th>\n",
       "      <th>Match Date</th>\n",
       "    </tr>\n",
       "  </thead>\n",
       "  <tbody>\n",
       "    <tr>\n",
       "      <th>0</th>\n",
       "      <td>New Zealand</td>\n",
       "      <td>Bangladesh</td>\n",
       "      <td>Bangladesh</td>\n",
       "      <td>8 wickets</td>\n",
       "      <td>Mount Maunganui</td>\n",
       "      <td>Jan 1-5, 2022</td>\n",
       "    </tr>\n",
       "    <tr>\n",
       "      <th>1</th>\n",
       "      <td>South Africa</td>\n",
       "      <td>India</td>\n",
       "      <td>South Africa</td>\n",
       "      <td>7 wickets</td>\n",
       "      <td>Johannesburg</td>\n",
       "      <td>Jan 3-6, 2022</td>\n",
       "    </tr>\n",
       "    <tr>\n",
       "      <th>2</th>\n",
       "      <td>Australia</td>\n",
       "      <td>England</td>\n",
       "      <td>drawn</td>\n",
       "      <td></td>\n",
       "      <td>Sydney</td>\n",
       "      <td>Jan 5-9, 2022</td>\n",
       "    </tr>\n",
       "    <tr>\n",
       "      <th>3</th>\n",
       "      <td>New Zealand</td>\n",
       "      <td>Bangladesh</td>\n",
       "      <td>New Zealand</td>\n",
       "      <td>inns &amp; 117 runs</td>\n",
       "      <td>Christchurch</td>\n",
       "      <td>Jan 9-11, 2022</td>\n",
       "    </tr>\n",
       "    <tr>\n",
       "      <th>4</th>\n",
       "      <td>South Africa</td>\n",
       "      <td>India</td>\n",
       "      <td>South Africa</td>\n",
       "      <td>7 wickets</td>\n",
       "      <td>Cape Town</td>\n",
       "      <td>Jan 11-14, 2022</td>\n",
       "    </tr>\n",
       "    <tr>\n",
       "      <th>5</th>\n",
       "      <td>Australia</td>\n",
       "      <td>England</td>\n",
       "      <td>Australia</td>\n",
       "      <td>146 runs</td>\n",
       "      <td>Hobart</td>\n",
       "      <td>Jan 14-16, 2022</td>\n",
       "    </tr>\n",
       "  </tbody>\n",
       "</table>\n",
       "</div>"
      ],
      "text/plain": [
       "      Host Team   Away Team        Winner           Margin           Ground  \\\n",
       "0   New Zealand  Bangladesh    Bangladesh        8 wickets  Mount Maunganui   \n",
       "1  South Africa       India  South Africa        7 wickets     Johannesburg   \n",
       "2     Australia     England         drawn                            Sydney   \n",
       "3   New Zealand  Bangladesh   New Zealand  inns & 117 runs     Christchurch   \n",
       "4  South Africa       India  South Africa        7 wickets        Cape Town   \n",
       "5     Australia     England     Australia         146 runs           Hobart   \n",
       "\n",
       "        Match Date  \n",
       "0    Jan 1-5, 2022  \n",
       "1    Jan 3-6, 2022  \n",
       "2    Jan 5-9, 2022  \n",
       "3   Jan 9-11, 2022  \n",
       "4  Jan 11-14, 2022  \n",
       "5  Jan 14-16, 2022  "
      ]
     },
     "execution_count": 7,
     "metadata": {},
     "output_type": "execute_result"
    }
   ],
   "source": [
    "get_matches_in_year(get_all_year_links()[-1])\n",
    "# sending the last link of the list"
   ]
  },
  {
   "cell_type": "markdown",
   "metadata": {
    "heading_collapsed": true,
    "hidden": true
   },
   "source": [
    "#### Special Case of Pakistan\n",
    "Unlike most other Test-playing Nations, Pakistan has been forced to hold its Home games outside Pakistan (most notably in UAE) due to security reasons. We need to handle such special cases. \n",
    "<br>We define two functions - `host_away_swapper(matches, matches_df)` and `host_correction(matches)` to do so. The documentation of each function is given below."
   ]
  },
  {
   "cell_type": "code",
   "execution_count": 8,
   "metadata": {
    "code_folding": [
     0
    ],
    "hidden": true
   },
   "outputs": [],
   "source": [
    "def host_away_swapper(matches, matches_df):\n",
    "    '''\n",
    "    Helper function to swap the \"Host Team\" and \"Away Team\" columns\n",
    "    \n",
    "    matches_df - extracted DataFrame whose column entries will be swapped\n",
    "    matches - DataFrame with all the matches to which the swapped data will be finally assigned to\n",
    "    '''\n",
    "    \n",
    "    for i in matches_df.index:\n",
    "        matches_df.loc[i, \"Host Team\"], matches_df.loc[i, \"Away Team\"] = matches_df.loc[i, \"Away Team\"], matches_df.loc[i, \"Host Team\"] \n",
    "#     do the swapping\n",
    "    \n",
    "    matches.loc[matches_df.index] = matches_df\n",
    "#     make the changes in the original Dataframe and return it\n",
    "    return matches"
   ]
  },
  {
   "cell_type": "code",
   "execution_count": 9,
   "metadata": {
    "code_folding": [
     0
    ],
    "hidden": true
   },
   "outputs": [],
   "source": [
    "def host_correction(matches):\n",
    "    '''\n",
    "    Helper Function to correct the host countries discrepancies\n",
    "    \n",
    "    matches - DataFrame containing all the matches\n",
    "    '''\n",
    "    \n",
    "#     matches held in UAE and hosted by Pakistan Cricket Board\n",
    "    UAE_grounds = [\"Abu Dhabi\", \"Dubai (DSC)\", \"Sharjah\"]\n",
    "    for ground in UAE_grounds:\n",
    "        ground_match = matches[matches[\"Ground\"] == ground]\n",
    "        ground_match = ground_match[ground_match[\"Away Team\"] == \"Pakistan\"]\n",
    "#         DataFrame extracted\n",
    "        matches = host_away_swapper(matches, ground_match)\n",
    "#         changes made in the original\n",
    "\n",
    "    aus_vs_pak = matches[(matches[\"Host Team\"] == \"Australia\") & (matches[\"Away Team\"] == \"Pakistan\")]\n",
    "    aus_vs_pak_grounds = [\"Colombo (PSS)\", \"Lord's\", \"Leeds\"]\n",
    "#         matches of the 2002 and 2010 Pak vs Aus series held outside Pakistan (but not in UAE), \n",
    "#         hosted by Pakistan Cricket Board\n",
    "    \n",
    "    for ground in aus_vs_pak_grounds:\n",
    "        ground_match = aus_vs_pak[aus_vs_pak[\"Ground\"] == ground]\n",
    "        \n",
    "        matches = host_away_swapper(matches, ground_match)\n",
    "#         changes made in original\n",
    "\n",
    "    return matches"
   ]
  },
  {
   "cell_type": "markdown",
   "metadata": {
    "hidden": true
   },
   "source": [
    "The function `host_correction(...)` works as follows:"
   ]
  },
  {
   "cell_type": "code",
   "execution_count": 10,
   "metadata": {
    "hidden": true,
    "scrolled": true
   },
   "outputs": [
    {
     "data": {
      "text/html": [
       "<div>\n",
       "<style scoped>\n",
       "    .dataframe tbody tr th:only-of-type {\n",
       "        vertical-align: middle;\n",
       "    }\n",
       "\n",
       "    .dataframe tbody tr th {\n",
       "        vertical-align: top;\n",
       "    }\n",
       "\n",
       "    .dataframe thead th {\n",
       "        text-align: right;\n",
       "    }\n",
       "</style>\n",
       "<table border=\"1\" class=\"dataframe\">\n",
       "  <thead>\n",
       "    <tr style=\"text-align: right;\">\n",
       "      <th></th>\n",
       "      <th>Host Team</th>\n",
       "      <th>Away Team</th>\n",
       "      <th>Winner</th>\n",
       "      <th>Margin</th>\n",
       "      <th>Ground</th>\n",
       "      <th>Match Date</th>\n",
       "    </tr>\n",
       "  </thead>\n",
       "  <tbody>\n",
       "    <tr>\n",
       "      <th>12</th>\n",
       "      <td>Ireland</td>\n",
       "      <td>Pakistan</td>\n",
       "      <td>Pakistan</td>\n",
       "      <td>5 wickets</td>\n",
       "      <td>Dublin (Malahide)</td>\n",
       "      <td>May 11-15, 2018</td>\n",
       "    </tr>\n",
       "    <tr>\n",
       "      <th>13</th>\n",
       "      <td>England</td>\n",
       "      <td>Pakistan</td>\n",
       "      <td>Pakistan</td>\n",
       "      <td>9 wickets</td>\n",
       "      <td>Lord's</td>\n",
       "      <td>May 24-27, 2018</td>\n",
       "    </tr>\n",
       "    <tr>\n",
       "      <th>14</th>\n",
       "      <td>England</td>\n",
       "      <td>Pakistan</td>\n",
       "      <td>England</td>\n",
       "      <td>inns &amp; 55 runs</td>\n",
       "      <td>Leeds</td>\n",
       "      <td>Jun 1-3, 2018</td>\n",
       "    </tr>\n",
       "    <tr>\n",
       "      <th>29</th>\n",
       "      <td>Australia</td>\n",
       "      <td>Pakistan</td>\n",
       "      <td>drawn</td>\n",
       "      <td></td>\n",
       "      <td>Dubai (DSC)</td>\n",
       "      <td>Oct 7-11, 2018</td>\n",
       "    </tr>\n",
       "    <tr>\n",
       "      <th>31</th>\n",
       "      <td>Australia</td>\n",
       "      <td>Pakistan</td>\n",
       "      <td>Pakistan</td>\n",
       "      <td>373 runs</td>\n",
       "      <td>Abu Dhabi</td>\n",
       "      <td>Oct 16-19, 2018</td>\n",
       "    </tr>\n",
       "    <tr>\n",
       "      <th>36</th>\n",
       "      <td>New Zealand</td>\n",
       "      <td>Pakistan</td>\n",
       "      <td>New Zealand</td>\n",
       "      <td>4 runs</td>\n",
       "      <td>Abu Dhabi</td>\n",
       "      <td>Nov 16-19, 2018</td>\n",
       "    </tr>\n",
       "    <tr>\n",
       "      <th>39</th>\n",
       "      <td>New Zealand</td>\n",
       "      <td>Pakistan</td>\n",
       "      <td>Pakistan</td>\n",
       "      <td>inns &amp; 16 runs</td>\n",
       "      <td>Dubai (DSC)</td>\n",
       "      <td>Nov 24-27, 2018</td>\n",
       "    </tr>\n",
       "    <tr>\n",
       "      <th>41</th>\n",
       "      <td>New Zealand</td>\n",
       "      <td>Pakistan</td>\n",
       "      <td>New Zealand</td>\n",
       "      <td>123 runs</td>\n",
       "      <td>Abu Dhabi</td>\n",
       "      <td>Dec 3-7, 2018</td>\n",
       "    </tr>\n",
       "    <tr>\n",
       "      <th>47</th>\n",
       "      <td>South Africa</td>\n",
       "      <td>Pakistan</td>\n",
       "      <td>South Africa</td>\n",
       "      <td>6 wickets</td>\n",
       "      <td>Centurion</td>\n",
       "      <td>Dec 26-28, 2018</td>\n",
       "    </tr>\n",
       "  </tbody>\n",
       "</table>\n",
       "</div>"
      ],
      "text/plain": [
       "       Host Team Away Team        Winner          Margin             Ground  \\\n",
       "12       Ireland  Pakistan      Pakistan       5 wickets  Dublin (Malahide)   \n",
       "13       England  Pakistan      Pakistan       9 wickets             Lord's   \n",
       "14       England  Pakistan       England  inns & 55 runs              Leeds   \n",
       "29     Australia  Pakistan         drawn                        Dubai (DSC)   \n",
       "31     Australia  Pakistan      Pakistan        373 runs          Abu Dhabi   \n",
       "36   New Zealand  Pakistan   New Zealand          4 runs          Abu Dhabi   \n",
       "39   New Zealand  Pakistan      Pakistan  inns & 16 runs        Dubai (DSC)   \n",
       "41   New Zealand  Pakistan   New Zealand        123 runs          Abu Dhabi   \n",
       "47  South Africa  Pakistan  South Africa       6 wickets          Centurion   \n",
       "\n",
       "         Match Date  \n",
       "12  May 11-15, 2018  \n",
       "13  May 24-27, 2018  \n",
       "14    Jun 1-3, 2018  \n",
       "29   Oct 7-11, 2018  \n",
       "31  Oct 16-19, 2018  \n",
       "36  Nov 16-19, 2018  \n",
       "39  Nov 24-27, 2018  \n",
       "41    Dec 3-7, 2018  \n",
       "47  Dec 26-28, 2018  "
      ]
     },
     "execution_count": 10,
     "metadata": {},
     "output_type": "execute_result"
    }
   ],
   "source": [
    "matches = get_matches_in_year(get_all_year_links()[-5])\n",
    "matches[matches[\"Away Team\"] == \"Pakistan\"]"
   ]
  },
  {
   "cell_type": "markdown",
   "metadata": {
    "hidden": true
   },
   "source": [
    "As we see in the entries 29, 31,..., 41, the matches are held in UAE grounds, but Pakistan is set as the `Away Team`. Hence we use the host_correction(...) method and show the entries again."
   ]
  },
  {
   "cell_type": "code",
   "execution_count": 11,
   "metadata": {
    "hidden": true
   },
   "outputs": [
    {
     "data": {
      "text/html": [
       "<div>\n",
       "<style scoped>\n",
       "    .dataframe tbody tr th:only-of-type {\n",
       "        vertical-align: middle;\n",
       "    }\n",
       "\n",
       "    .dataframe tbody tr th {\n",
       "        vertical-align: top;\n",
       "    }\n",
       "\n",
       "    .dataframe thead th {\n",
       "        text-align: right;\n",
       "    }\n",
       "</style>\n",
       "<table border=\"1\" class=\"dataframe\">\n",
       "  <thead>\n",
       "    <tr style=\"text-align: right;\">\n",
       "      <th></th>\n",
       "      <th>Host Team</th>\n",
       "      <th>Away Team</th>\n",
       "      <th>Winner</th>\n",
       "      <th>Margin</th>\n",
       "      <th>Ground</th>\n",
       "      <th>Match Date</th>\n",
       "    </tr>\n",
       "  </thead>\n",
       "  <tbody>\n",
       "    <tr>\n",
       "      <th>29</th>\n",
       "      <td>Pakistan</td>\n",
       "      <td>Australia</td>\n",
       "      <td>drawn</td>\n",
       "      <td></td>\n",
       "      <td>Dubai (DSC)</td>\n",
       "      <td>Oct 7-11, 2018</td>\n",
       "    </tr>\n",
       "    <tr>\n",
       "      <th>31</th>\n",
       "      <td>Pakistan</td>\n",
       "      <td>Australia</td>\n",
       "      <td>Pakistan</td>\n",
       "      <td>373 runs</td>\n",
       "      <td>Abu Dhabi</td>\n",
       "      <td>Oct 16-19, 2018</td>\n",
       "    </tr>\n",
       "    <tr>\n",
       "      <th>36</th>\n",
       "      <td>Pakistan</td>\n",
       "      <td>New Zealand</td>\n",
       "      <td>New Zealand</td>\n",
       "      <td>4 runs</td>\n",
       "      <td>Abu Dhabi</td>\n",
       "      <td>Nov 16-19, 2018</td>\n",
       "    </tr>\n",
       "    <tr>\n",
       "      <th>39</th>\n",
       "      <td>Pakistan</td>\n",
       "      <td>New Zealand</td>\n",
       "      <td>Pakistan</td>\n",
       "      <td>inns &amp; 16 runs</td>\n",
       "      <td>Dubai (DSC)</td>\n",
       "      <td>Nov 24-27, 2018</td>\n",
       "    </tr>\n",
       "    <tr>\n",
       "      <th>41</th>\n",
       "      <td>Pakistan</td>\n",
       "      <td>New Zealand</td>\n",
       "      <td>New Zealand</td>\n",
       "      <td>123 runs</td>\n",
       "      <td>Abu Dhabi</td>\n",
       "      <td>Dec 3-7, 2018</td>\n",
       "    </tr>\n",
       "  </tbody>\n",
       "</table>\n",
       "</div>"
      ],
      "text/plain": [
       "   Host Team    Away Team       Winner          Margin       Ground  \\\n",
       "29  Pakistan    Australia        drawn                  Dubai (DSC)   \n",
       "31  Pakistan    Australia     Pakistan        373 runs    Abu Dhabi   \n",
       "36  Pakistan  New Zealand  New Zealand          4 runs    Abu Dhabi   \n",
       "39  Pakistan  New Zealand     Pakistan  inns & 16 runs  Dubai (DSC)   \n",
       "41  Pakistan  New Zealand  New Zealand        123 runs    Abu Dhabi   \n",
       "\n",
       "         Match Date  \n",
       "29   Oct 7-11, 2018  \n",
       "31  Oct 16-19, 2018  \n",
       "36  Nov 16-19, 2018  \n",
       "39  Nov 24-27, 2018  \n",
       "41    Dec 3-7, 2018  "
      ]
     },
     "execution_count": 11,
     "metadata": {},
     "output_type": "execute_result"
    }
   ],
   "source": [
    "matches = host_correction(matches)\n",
    "matches[matches[\"Host Team\"] == \"Pakistan\"]"
   ]
  },
  {
   "cell_type": "markdown",
   "metadata": {
    "hidden": true
   },
   "source": [
    "As we can infer, the helper function works perfectly."
   ]
  },
  {
   "cell_type": "markdown",
   "metadata": {},
   "source": [
    "## Strategy\n",
    "\n",
    "Now that we have functions to perform web scraping on the main records link and all the individual year links, we need to clean and prepare the data to save it into CSV files."
   ]
  },
  {
   "cell_type": "markdown",
   "metadata": {},
   "source": [
    "We can scrape the matches and store them as a single CSV file with all the matches or separate them:\n",
    "1. Year-wise,\n",
    "2. Team-wise,\n",
    "3. Hosting nation-wise, and\n",
    "4. Ground-wise \n",
    "\n",
    "and then store them as multiple CSV files.\n",
    "\n",
    "All the subsequent sub-folders shall be stored in a single \"Test Matches\" folder.<br>\n",
    "Let's do them one by one:"
   ]
  },
  {
   "cell_type": "markdown",
   "metadata": {
    "heading_collapsed": true
   },
   "source": [
    "### Year-wise"
   ]
  },
  {
   "cell_type": "markdown",
   "metadata": {
    "hidden": true
   },
   "source": [
    "Let's define a function `create_year_matches_csv(year_url, path)` which takes the URL of a year and stores the matches of that year in a CSV file at the specified `path`."
   ]
  },
  {
   "cell_type": "code",
   "execution_count": 12,
   "metadata": {
    "code_folding": [
     0
    ],
    "hidden": true
   },
   "outputs": [],
   "source": [
    "def create_year_matches_csv(year_url, path):\n",
    "    '''\n",
    "    Function to create a CSV file from the data in year_url and store the file at path\n",
    "    '''\n",
    "    \n",
    "    year_df = host_correction(get_matches_in_year(year_url))\n",
    "#     use the functions defined above to get the DataFrame with the matches\n",
    "\n",
    "    year_df.to_csv(path, index = None)\n",
    "#     store as CSV "
   ]
  },
  {
   "cell_type": "markdown",
   "metadata": {
    "hidden": true
   },
   "source": [
    "Now define a `create_years_folder(year_urls)` function which takes the list of all year URLs and uses the `create_year_matches_csv(...)` function to create CSV files for each URL in the appropriate directory."
   ]
  },
  {
   "cell_type": "code",
   "execution_count": 13,
   "metadata": {
    "code_folding": [
     0
    ],
    "hidden": true
   },
   "outputs": [],
   "source": [
    "def create_years_folder(year_urls):\n",
    "    '''\n",
    "    Function to extract all the test matches, year-wise, and store them as CSV files, in a \"By Year\" folder\n",
    "    \n",
    "    year_urls - list of year-wise data URLs\n",
    "    '''\n",
    "    \n",
    "    os.makedirs(\"Test Matches/By Year\", exist_ok = True)\n",
    "#     create the folder\n",
    "\n",
    "    for year in year_urls:\n",
    "        yr = year.split(';')[1][-4:]\n",
    "#         get the year\n",
    "        year_df = create_year_matches_csv(year, 'Test Matches/By Year/{}.csv'.format(yr))\n",
    "#         use the create_year_matches_csv to store the data for each year "
   ]
  },
  {
   "cell_type": "markdown",
   "metadata": {
    "hidden": true
   },
   "source": [
    "Now we can use the `get_all_year_links()` function to get the URLs of all the years and use the `create_years_folder(...)` function to create a folder with all the years' matches as a CSV file.<br>\n",
    "The function will be used later in a mega function to perform all the Folder creation."
   ]
  },
  {
   "cell_type": "markdown",
   "metadata": {
    "heading_collapsed": true
   },
   "source": [
    "### Collecting all matches"
   ]
  },
  {
   "cell_type": "markdown",
   "metadata": {
    "hidden": true
   },
   "source": [
    "We observe that by the time we have created the \"By Year\" folder, we have performed the web scraping.<br>\n",
    "Invoking the `get_matches_in_year(...)` function again and again would be a waste of time. What we can do is:\n",
    "* Get the list of CSV files in \"By Year\" folder\n",
    "* Create an empty DataFrame\n",
    "* Read the contents of the first CSV file into a DataFrame\n",
    "* Append the contents DataFrame to the end of the empty DataFrame\n",
    "* Repeat the process of reading and appending for all the files\n",
    "\n",
    "We thus get a DataFrame with all the already scrapped matches. We need to perform minor `host_correction(...)` and drop the duplicate entries in the DataFrame to get the required DataFrame of `all_matches`.\n",
    "<br></br>\n",
    "We define a function `collect_all_matches()` to code the algorithm explained above."
   ]
  },
  {
   "cell_type": "code",
   "execution_count": 14,
   "metadata": {
    "code_folding": [
     0
    ],
    "hidden": true
   },
   "outputs": [],
   "source": [
    "def collect_all_matches():\n",
    "    '''\n",
    "    Function to parse the data from all CSV files, and return all matches in a single DataFrame\n",
    "    '''\n",
    "    \n",
    "    year_files = sorted(os.listdir(\"Test Matches/By Year\"))\n",
    "#     get the list of files from which matches have to be scrapped\n",
    "    \n",
    "    all_matches = pd.DataFrame()\n",
    "#     creating an empty DataFrame which will store the final data\n",
    "\n",
    "    for year in year_files:\n",
    "        year_df = pd.read_csv(\"Test Matches/By Year/{}\".format(year), na_filter = False)\n",
    "#         read data from each CSV file\n",
    "        all_matches = all_matches.append(year_df).reset_index(drop = True)\n",
    "#         and append the data to the all_matches DataFrame\n",
    "\n",
    "    all_matches = host_correction(all_matches)\n",
    "#     perform the host corrections for special cases\n",
    "    \n",
    "    all_matches.drop_duplicates(inplace = True, ignore_index = True)    \n",
    "#     this removes any and every duplicate match entry in the DataFrame\n",
    "    \n",
    "    return all_matches\n",
    "#     return the final DataFrame"
   ]
  },
  {
   "cell_type": "markdown",
   "metadata": {
    "hidden": true
   },
   "source": [
    "***Note: `collect_all_matches()` will work ONLY and ONLY IF the `create_years_folder(...)` function is first called, as the former function is dependent on the outcome of the latter function.***"
   ]
  },
  {
   "cell_type": "markdown",
   "metadata": {
    "heading_collapsed": true
   },
   "source": [
    "### Team-wise"
   ]
  },
  {
   "cell_type": "markdown",
   "metadata": {
    "hidden": true
   },
   "source": [
    "Let's define a function `create_team_matches_csv(all_matches, team)` which takes the DataFrame containing all matches and a team name, and creates a CSV file containing the matches featuring the passed `team`."
   ]
  },
  {
   "cell_type": "code",
   "execution_count": 15,
   "metadata": {
    "code_folding": [
     0
    ],
    "hidden": true
   },
   "outputs": [],
   "source": [
    "def create_team_matches_csv(all_matches, team):\n",
    "    '''\n",
    "    Function to create a CSV file containing matches played by a team.\n",
    "    \n",
    "    all_matches - DataFrame of all Test matches\n",
    "    team - name of team\n",
    "    '''\n",
    "    \n",
    "    team_matches = all_matches[(all_matches[\"Host Team\"] == team) | (all_matches[\"Away Team\"] == team)]\n",
    "#     matches extracted\n",
    "\n",
    "    team_matches.to_csv(\"Test Matches/By Team/{}.csv\".format(team), index = None)\n",
    "#     DataFrame saved as CSV file in appropriate location with appropriate filename"
   ]
  },
  {
   "cell_type": "markdown",
   "metadata": {
    "hidden": true
   },
   "source": [
    "Next we define a function `create_teams_folder(all_team_matches)` which creates a folder \"By Team\" containing CSV files for each individual team."
   ]
  },
  {
   "cell_type": "code",
   "execution_count": 16,
   "metadata": {
    "code_folding": [
     0
    ],
    "hidden": true
   },
   "outputs": [],
   "source": [
    "def create_teams_folder(all_team_matches):\n",
    "    '''\n",
    "    Function to create the Team-wise CSV files.\n",
    "    \n",
    "    all_team_matches - DataFrame containing matches of all teams\n",
    "    '''\n",
    "    \n",
    "    teams = all_team_matches[\"Host Team\"].unique()\n",
    "#     get the names of each team\n",
    "    \n",
    "    os.makedirs(\"Test Matches/By Team\", exist_ok = True)\n",
    "#     create a new directory\n",
    "    \n",
    "    for team in teams:\n",
    "        create_team_matches_csv(all_team_matches, team)\n",
    "#     call the helper function to create CSV files at location"
   ]
  },
  {
   "cell_type": "markdown",
   "metadata": {
    "hidden": true
   },
   "source": [
    "Now we can use the `get_all_year_links()` function to get the URLs of all the years and use the `create_teams_folder(...)` function to create a folder with all the matches of each team as a CSV file.<br>\n",
    "The function will be used later in a mega function to perform all the Folder creation."
   ]
  },
  {
   "cell_type": "markdown",
   "metadata": {
    "heading_collapsed": true
   },
   "source": [
    "### Hosting nation-wise"
   ]
  },
  {
   "cell_type": "markdown",
   "metadata": {
    "hidden": true
   },
   "source": [
    "**This section requires some extra cleaning steps.<br>**"
   ]
  },
  {
   "cell_type": "markdown",
   "metadata": {
    "hidden": true
   },
   "source": [
    "There are total 5 matches which have been played effectively at a neutral venue, i.e., the match was played in neither of the two competing nations.<br>\n",
    "The matches include: \n",
    "* 3 Australia vs South Africa matches, part of the 1912 Triangular Test Series, played in England\n",
    "* 1 Pakistan vs Sri Lanka match, final of 1999 Asian Test Championship, played in Dhaka, Bangladesh\n",
    "* 1 India vs New Zealand match, final of 2019-2021 World Test Championship, played in Southampton, England\n",
    "\n",
    "These matches will be listed under the countries where the match was played.<br></br>\n",
    "***Note: Matches organised by Pakistan Cricket Board and Afghanistan Cricket Board but played outside Pakistan and Afghanistan will still be listed under Pakistan.***"
   ]
  },
  {
   "cell_type": "markdown",
   "metadata": {
    "hidden": true
   },
   "source": [
    "We need two functions - `neutral_venue_encoder(...)` and `neutral_venue_decoder(...)` to enable the Pandas slicing to effectively fulfill the conditions mentioned above, as well as maintain the correct pattern while creating the CSV file."
   ]
  },
  {
   "cell_type": "code",
   "execution_count": 17,
   "metadata": {
    "code_folding": [
     0
    ],
    "hidden": true
   },
   "outputs": [],
   "source": [
    "def neutral_venue_encoder(all_matches, host, away, ground, country):\n",
    "    '''\n",
    "    Helper Function to encode the matches at a neutral venue appropriately, enabling proper Pandas slicing with the country\n",
    "    \n",
    "    all_matches - DataFrame containing all the matches\n",
    "    host - original host country\n",
    "    away - original away country\n",
    "    ground - ground at which the match happened\n",
    "    country - country to be set as the new temporary host\n",
    "    '''\n",
    "    \n",
    "    matches = all_matches[(all_matches[\"Host Team\"] == host) & (all_matches[\"Away Team\"] == away) & (all_matches[\"Ground\"] == ground)]\n",
    "#     get the neutral matches\n",
    "    i = matches.index\n",
    "    matches.loc[i, \"Host Team\"] = country\n",
    "    matches.loc[i, \"Away Team\"] = host+ \" \" +away\n",
    "#     perform the encoding\n",
    "\n",
    "    all_matches.loc[matches.index] = matches\n",
    "#     make the changes in the original DataFrame and return it\n",
    "    return all_matches"
   ]
  },
  {
   "cell_type": "code",
   "execution_count": 18,
   "metadata": {
    "code_folding": [
     0
    ],
    "hidden": true
   },
   "outputs": [],
   "source": [
    "def neutral_venue_decoder(country_matches_df, host, away):\n",
    "    '''\n",
    "    Helper Function to decode the match at neutral venue back to its original format\n",
    "    \n",
    "    country_matches_df - DataFrame with all the matches\n",
    "    host - Team 1, in this case\n",
    "    away - Team 2, in this case\n",
    "    '''\n",
    "    \n",
    "    matches = country_matches_df[country_matches_df[\"Away Team\"] == host+ \" \" +away]\n",
    "#     get the encoded matches\n",
    "    \n",
    "    for i in matches.index:\n",
    "        matches.loc[i, \"Host Team\"], matches.loc[i, \"Away Team\"] = host, away\n",
    "#     do the decoding\n",
    "\n",
    "    country_matches_df.loc[matches.index] = matches\n",
    "#     make the changes in the original DataFrame and return it\n",
    "    return country_matches_df"
   ]
  },
  {
   "cell_type": "markdown",
   "metadata": {
    "hidden": true
   },
   "source": [
    "As you may have guessed, the above functions work for each special case, so we define another helper function `neutral_matches_segregate(all_matches)` which uses the `neutral_venue_encoder(...)` function and returns the Master DataFrame with all changes."
   ]
  },
  {
   "cell_type": "code",
   "execution_count": 19,
   "metadata": {
    "code_folding": [
     0
    ],
    "hidden": true
   },
   "outputs": [],
   "source": [
    "def neutral_matches_segregate(all_matches):\n",
    "    '''\n",
    "    Minor Helper function to encode the 5 special neutral matches\n",
    "    \n",
    "    all_matches - DataFrame of all test matches\n",
    "    '''\n",
    "    \n",
    "    aus_vs_sa_grounds = [\"Lord's\", \"Nottingham\", \"Manchester\"]\n",
    "#     matches of the 1912 Triangular series b/w Eng, Aus and SA, all of which were played in England\n",
    "    for ground in aus_vs_sa_grounds:\n",
    "        all_matches = neutral_venue_encoder(all_matches, \"Australia\", \"South Africa\", ground, \"England\")\n",
    "#         changes made directly by calling helper function\n",
    "\n",
    "    all_matches = neutral_venue_encoder(all_matches, \"India\", \"New Zealand\", \"Southampton\", \"England\")\n",
    "#     2021 WTC Final held in England\n",
    "    all_matches = neutral_venue_encoder(all_matches, \"Pakistan\", \"Sri Lanka\", \"Dhaka\", \"Bangladesh\")\n",
    "#     1999 ATC Final held in Bangladesh\n",
    "\n",
    "    return all_matches"
   ]
  },
  {
   "cell_type": "markdown",
   "metadata": {
    "hidden": true
   },
   "source": [
    "Let's define a function `create_host_matches_csv(all_matches, nation)` which takes the DataFrame containing all matches and a team name, and creates a CSV file for the matches hosted by the passed `nation`."
   ]
  },
  {
   "cell_type": "code",
   "execution_count": 20,
   "metadata": {
    "code_folding": [
     0
    ],
    "hidden": true
   },
   "outputs": [],
   "source": [
    "def create_host_matches_csv(all_matches, nation):\n",
    "    '''\n",
    "    Function to extract the matches of the country mentioned in path and store as a CSV file\n",
    "    \n",
    "    all_matches - DataFrame with all Test matches\n",
    "    nation - hosting nation \n",
    "    '''\n",
    "    \n",
    "    nation_matches_df = all_matches[all_matches[\"Host Team\"] == nation]\n",
    "#     extract the matches in the country\n",
    "    \n",
    "    if nation == \"England\":    \n",
    "        nation_matches_df = neutral_venue_decoder(nation_matches_df, \"Australia\", \"South Africa\")\n",
    "        nation_matches_df = neutral_venue_decoder(nation_matches_df, \"India\", \"New Zealand\")\n",
    "#         2021 WTC final and 1912 Triangular series matches\n",
    "\n",
    "    if nation == \"Bangladesh\":\n",
    "        nation_matches_df = neutral_venue_decoder(nation_matches_df, \"Pakistan\", \"Sri Lanka\")\n",
    "#         1999 ATC final\n",
    "    \n",
    "    nation_matches_df.to_csv(\"Test Matches/By Hosting Nation/{}.csv\".format(nation), index=None)\n",
    "#     store the data as CSV"
   ]
  },
  {
   "cell_type": "markdown",
   "metadata": {
    "hidden": true
   },
   "source": [
    "Next we define a function `create_hosts_folder(all_host_matches)` which creates a folder \"By Hosting Nation\" containing CSV files for each Hosting Nation."
   ]
  },
  {
   "cell_type": "code",
   "execution_count": 21,
   "metadata": {
    "code_folding": [
     0
    ],
    "hidden": true
   },
   "outputs": [],
   "source": [
    "def create_hosts_folder(all_host_matches):\n",
    "    '''\n",
    "    Function to create the Hosts Folder having the data for each Host country\n",
    "    \n",
    "    all_host_matches - DataFrame containing matches hosted by all hosts\n",
    "    '''\n",
    "    \n",
    "    all_host_matches = neutral_matches_segregate(all_host_matches)\n",
    "#     minor correction of data using the helper functions\n",
    "\n",
    "    hosts = all_host_matches[\"Host Team\"].unique()\n",
    "#     extract the names of Hosts\n",
    "\n",
    "    os.makedirs(\"Test Matches/By Hosting Nation\", exist_ok = True)\n",
    "#     create the folder\n",
    "\n",
    "    for nation in hosts:\n",
    "        create_host_matches_csv(all_host_matches, nation)\n",
    "#         call the function to create the CSV file in folder"
   ]
  },
  {
   "cell_type": "markdown",
   "metadata": {
    "hidden": true
   },
   "source": [
    "Now we can use the `get_all_year_links()` function to get the URLs of all the years and use the `create_hosts_folder(...)` function to create a folder with all the matches hosted by a nation('s Board) as a CSV file.<br>\n",
    "The function will be used later in a mega function to perform all the Folder creation."
   ]
  },
  {
   "cell_type": "markdown",
   "metadata": {
    "heading_collapsed": true
   },
   "source": [
    "### Ground-wise"
   ]
  },
  {
   "cell_type": "markdown",
   "metadata": {
    "hidden": true
   },
   "source": [
    "In this case, it would be more convenient to have sub-folders for each countries, and each ground in a country have its own CSV file. <br></br>\n",
    "Hence we define a function `country_name(ground_matches)` which returns the name of the country in which the ground is located.<br>The function also handles special cases such as grounds in UAE."
   ]
  },
  {
   "cell_type": "code",
   "execution_count": 22,
   "metadata": {
    "code_folding": [
     0
    ],
    "hidden": true
   },
   "outputs": [],
   "source": [
    "def country_name(ground_matches):\n",
    "    '''\n",
    "    Helper function to return the country of the ground\n",
    "    \n",
    "    ground_matches - DataFrame containing all the matches played at a ground\n",
    "    '''\n",
    "    \n",
    "    ground = ground_matches.Ground.values[0]\n",
    "#     get the ground name in a string\n",
    "\n",
    "    UAE = [\"Abu Dhabi\", \"Dubai (DSC)\", \"Sharjah\"]\n",
    "#     special case for grounds of UAE\n",
    "\n",
    "    if ground in UAE:\n",
    "        return \"UAE\"\n",
    "    if ground == \"Dehradun\":\n",
    "        return \"India\"\n",
    "#     special case - Dehradun, in India, hosted a single game between Afghanistan and Ireland\n",
    "\n",
    "    return ground_matches[\"Host Team\"].value_counts().sort_values().index[-1]\n",
    "#     return the team which hosted the most games at the venue (general observation)"
   ]
  },
  {
   "cell_type": "markdown",
   "metadata": {
    "hidden": true
   },
   "source": [
    "Let's define a function `create_ground_matches_csv(all_matches, ground)` which takes the DataFrame containing all matches and a ground name, and creates a CSV file containing all matches played at the passed `ground`."
   ]
  },
  {
   "cell_type": "code",
   "execution_count": 23,
   "metadata": {
    "code_folding": [
     0
    ],
    "hidden": true
   },
   "outputs": [],
   "source": [
    "def create_ground_matches_csv(all_matches, ground):\n",
    "    '''\n",
    "    Function to create a CSV file for each ground\n",
    "    \n",
    "    all_matches - DataFrame of all matches\n",
    "    ground - ground for which CSV file is to be created\n",
    "    '''\n",
    "    \n",
    "    ground_matches = all_matches[all_matches.Ground == ground]\n",
    "#         get all the matches at the ground\n",
    "\n",
    "    country = country_name(ground_matches)\n",
    "#     use the helper function to get the country name, and create a new subfolder for that country\n",
    "    os.makedirs(\"Test Matches/By Ground/{}\".format(country), exist_ok = True)\n",
    "        \n",
    "    ground_matches.to_csv(\"Test Matches/By Ground/{}/{}.csv\".format(country, ground), index = None)\n",
    "#         write each ground_matches DataFrame to a CSV file at the appropriate location"
   ]
  },
  {
   "cell_type": "markdown",
   "metadata": {
    "hidden": true
   },
   "source": [
    "Next we define a function `create_grounds_folder(all_ground_matches)` which creates a folder \"By Ground\" containing CSV files for each ground, in a sub-folder having the name of the country in which the ground exists."
   ]
  },
  {
   "cell_type": "code",
   "execution_count": 24,
   "metadata": {
    "code_folding": [
     0
    ],
    "hidden": true
   },
   "outputs": [],
   "source": [
    "def create_grounds_folder(all_ground_matches):\n",
    "    '''\n",
    "    Function to create a By Ground folder, with the location folders\n",
    "    \n",
    "    all_ground_matches - DataFrame containing matches played at all grounds\n",
    "    '''\n",
    "\n",
    "    grounds = all_ground_matches.Ground.unique()\n",
    "#     extracting list of all grounds\n",
    "\n",
    "    os.makedirs(\"Test Matches/By Ground\", exist_ok = True)\n",
    "# create a new folder \"By Ground\"    \n",
    "    \n",
    "    for ground in grounds:\n",
    "#     for each ground, use helper function to create a CSV file\n",
    "        create_ground_matches_csv(all_ground_matches, ground)"
   ]
  },
  {
   "cell_type": "markdown",
   "metadata": {
    "hidden": true
   },
   "source": [
    "Now we can use the `get_all_year_links()` function to get the URLs of all the years and use the `create_grounds_folder(...)` function to create a folder having country folders with all the matches played at a ground as a CSV file.<br>\n",
    "The function will be used later in a mega function to perform all the Folder creation."
   ]
  },
  {
   "cell_type": "markdown",
   "metadata": {},
   "source": [
    "## Main Function\n",
    "\n",
    "Once we created the functions for both scraping the data from the webpages and saving them in an organised manner, we can create a `main` function which will perform all of the above in one call."
   ]
  },
  {
   "cell_type": "markdown",
   "metadata": {},
   "source": [
    "Let's define the `main` function."
   ]
  },
  {
   "cell_type": "code",
   "execution_count": 25,
   "metadata": {
    "code_folding": [
     0
    ]
   },
   "outputs": [],
   "source": [
    "def main():\n",
    "    '''\n",
    "    Main Function which performs web scraping and organised saving to CSV files.\n",
    "    '''\n",
    "    \n",
    "    os.makedirs(\"Test Matches\", exist_ok = True)\n",
    "#     create a head directory to store all the data\n",
    "\n",
    "    links = get_all_year_links()\n",
    "#     get the list of URLs of all the webpages to be scrapped\n",
    "    \n",
    "    create_years_folder(links)\n",
    "#     scrape the webpages and store the data in year-wise CSV files\n",
    "\n",
    "    matches = collect_all_matches()\n",
    "#     read the created CSV files and collect all matches in a single DataFrame\n",
    "\n",
    "    create_teams_folder(matches)\n",
    "#     use the DataFrame to create team-wise CSV files\n",
    "    create_hosts_folder(matches)\n",
    "#     use the DataFrame to create hosting nation-wise CSV files\n",
    "    create_grounds_folder(matches)\n",
    "#     use the DataFrame to create ground-wise CSV files\n",
    "\n",
    "    matches.to_csv(\"Test Matches/All Matches.csv\", index = None)\n",
    "#     in the end, store all matches in a single CSV file in the head directory"
   ]
  },
  {
   "cell_type": "markdown",
   "metadata": {},
   "source": [
    "Call the `main()` function to do the job. "
   ]
  },
  {
   "cell_type": "code",
   "execution_count": null,
   "metadata": {},
   "outputs": [],
   "source": [
    "main()"
   ]
  },
  {
   "cell_type": "markdown",
   "metadata": {},
   "source": [
    "## References and Future Work"
   ]
  },
  {
   "cell_type": "markdown",
   "metadata": {},
   "source": [
    "Resources include:\n",
    "* <a href = \"https://stats.espncricinfo.com/ci/engine/records/index.html\"> ESPNCricinfo Stats </a>\n",
    "* <a href = \"https://www.geeksforgeeks.org/\"> Geeksforgeeks</a>\n",
    "* <a href = \"https://pandas.pydata.org/\"> Pandas</a>\n",
    "* <a href = \"https://stackoverflow.com/\"> Stack Overflow</a>\n",
    "* <a href = \"https://www.youtube.com/watch?v=RKsLLG-bzEY\"> YouTube Video on Web Scraping by Jovian </a>\n",
    "* <a href = \"https://jovian.ai\"> Jovian </a>"
   ]
  },
  {
   "cell_type": "markdown",
   "metadata": {},
   "source": [
    "Now we have successfully scrapped the data and created a dataset.<br>\n",
    "* The dataset can be updated by simply running the `main()` function as and when required.\n",
    "* The dataset can be expanded to have more details like : link to scorecard of the match, Man of the Match, etc.\n",
    "* The dataset can be used to perform Exploratory Data Analysis and Predictive Analysis.\n",
    "* The dataset can be further expanded to include ODI matches and T20I matches.\n",
    "* Web scraping can be performed to get the data for ODI and T20I matches."
   ]
  },
  {
   "cell_type": "markdown",
   "metadata": {},
   "source": [
    "Hope you liked my work. Efforts will be made to include the data for ODIs and T20Is in future.<br>\n",
    "Until then, ***Long Live Test Cricket***."
   ]
  },
  {
   "cell_type": "code",
   "execution_count": null,
   "metadata": {},
   "outputs": [],
   "source": [
    "jovian.commit(outputs = \"Test Matches\")\n",
    "# the entire Folder will be uploaded to the Jovian portal"
   ]
  }
 ],
 "metadata": {
  "language_info": {
   "codemirror_mode": {
    "name": "ipython",
    "version": 3
   },
   "file_extension": ".py",
   "mimetype": "text/x-python",
   "name": "python",
   "nbconvert_exporter": "python",
   "pygments_lexer": "ipython3",
   "version": "3.9.6"
  }
 },
 "nbformat": 4,
 "nbformat_minor": 2
}